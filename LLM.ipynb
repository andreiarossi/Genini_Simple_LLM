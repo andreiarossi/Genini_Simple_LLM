{
  "nbformat": 4,
  "nbformat_minor": 0,
  "metadata": {
    "colab": {
      "provenance": [],
      "authorship_tag": "ABX9TyP/qn1Pdi2MDPy81iwqyQpZ",
      "include_colab_link": true
    },
    "kernelspec": {
      "name": "python3",
      "display_name": "Python 3"
    },
    "language_info": {
      "name": "python"
    }
  },
  "cells": [
    {
      "cell_type": "markdown",
      "metadata": {
        "id": "view-in-github",
        "colab_type": "text"
      },
      "source": [
        "<a href=\"https://colab.research.google.com/github/andreiarossi/Genini_Simple_LLM/blob/main/LLM.ipynb\" target=\"_parent\"><img src=\"https://colab.research.google.com/assets/colab-badge.svg\" alt=\"Open In Colab\"/></a>"
      ]
    },
    {
      "cell_type": "markdown",
      "source": [
        "**Install Google SDK**"
      ],
      "metadata": {
        "id": "IvC_c-xVk1Zw"
      }
    },
    {
      "cell_type": "code",
      "execution_count": 1,
      "metadata": {
        "id": "aHOJZyFikiTO"
      },
      "outputs": [],
      "source": [
        "!pip install -q -U google-generativeai"
      ]
    },
    {
      "cell_type": "markdown",
      "source": [
        "**Imports**"
      ],
      "metadata": {
        "id": "dlTg8MlEnZUv"
      }
    },
    {
      "cell_type": "code",
      "source": [
        "# Import the Python SDK\n",
        "import pandas as pd\n",
        "import numpy as np\n",
        "import google.generativeai as genai\n",
        "# Used to securely store your API key\n",
        "from google.colab import userdata\n",
        "api_key = userdata.get('SECRET_KEY')\n",
        "genai.configure(api_key=api_key)"
      ],
      "metadata": {
        "id": "s4_nGj1tlUXV"
      },
      "execution_count": 57,
      "outputs": []
    },
    {
      "cell_type": "markdown",
      "source": [
        "Verify EmbedModels\n",
        "https://ai.google.dev/gemini-api/docs/embeddings?hl=pt-br"
      ],
      "metadata": {
        "id": "pD4_D-tBmn49"
      }
    },
    {
      "cell_type": "markdown",
      "source": [
        "**Ckeking the models versions**"
      ],
      "metadata": {
        "id": "l4UGXUcDHU-v"
      }
    },
    {
      "cell_type": "code",
      "source": [
        "for m in genai.list_models():\n",
        "  if 'embedContent' in m.supported_generation_methods:\n",
        "    print(m.name)\n"
      ],
      "metadata": {
        "colab": {
          "base_uri": "https://localhost:8080/",
          "height": 52
        },
        "id": "NlewgBV7mGrX",
        "outputId": "bf27cdb5-f495-492c-90ff-492e61c26aad"
      },
      "execution_count": 3,
      "outputs": [
        {
          "output_type": "stream",
          "name": "stdout",
          "text": [
            "models/embedding-001\n",
            "models/text-embedding-004\n"
          ]
        }
      ]
    },
    {
      "cell_type": "markdown",
      "source": [
        "**Embeding EXEMPLE**"
      ],
      "metadata": {
        "id": "E9qnHZSYuTJz"
      }
    },
    {
      "cell_type": "code",
      "source": [
        "title = 'Título do assunto desejado'\n",
        "sample_text = (\"Conteúdo inicial.\"\n",
        "  \"\\n\"\n",
        "  \"Texto completo para leitura:\"\n",
        "  \"\\n\"\n",
        "  \"O texto usado deve ser relacionado ao conteúdo estudado\")\n",
        "\n",
        "embeddings = genai.embed_content(model=\"models/embedding-001\",\n",
        "                                 content=sample_text,\n",
        "                                 title=title,\n",
        "                                 task_type=\"RETRIEVAL_DOCUMENT\")\n",
        "print(embeddings)"
      ],
      "metadata": {
        "colab": {
          "base_uri": "https://localhost:8080/",
          "height": 54
        },
        "id": "hnsQbVyPmmnz",
        "outputId": "9f31f9dc-e458-4094-d7da-fb18468e7bc8"
      },
      "execution_count": 6,
      "outputs": [
        {
          "output_type": "stream",
          "name": "stdout",
          "text": [
            "{'embedding': [0.024470402, -0.048381735, -0.04074992, -0.003745563, 0.045838032, 0.013582221, -0.0081079155, -0.013161906, -0.018862016, 0.056980733, -0.007910962, 0.021160256, 0.0001250103, -0.009849762, 0.018063258, -0.015170059, 0.030805368, 0.028109385, -0.023156524, -0.010971722, -0.014883397, 0.022299474, -0.0037814921, -0.03137723, -0.0030920599, -0.027632315, 0.012665942, -0.041502226, -0.030197794, 0.00793291, -0.03830562, 0.039077476, -0.029721957, 0.01948549, -0.006431529, -0.02786623, -0.0155216325, 0.026219176, -0.00077274133, -0.009484445, -0.014263129, -0.0068810205, -0.020167245, 0.023814367, 0.0033748387, -0.009531246, -0.026986655, 0.031734295, 0.009107547, -0.042028733, -0.0111794835, -0.006861845, 0.08797621, -0.006091629, 0.031144196, -0.040683765, 0.059492923, -0.00086666556, -0.0054108542, -0.0026610813, -0.030533075, -0.004701019, 0.03515564, 0.032038912, 0.001460381, -0.048519824, -0.03182654, -0.00059229444, 0.031010237, -0.01521818, -0.00553469, -0.034318235, 0.02004459, 0.0065063955, -0.01654233, -0.101885304, -0.037985902, 0.04698583, 0.00539398, -0.009394794, 0.042909317, -0.056179095, -0.06289285, -0.06280984, -0.09287327, 0.030447142, -0.04564123, -0.0072400104, -0.011024943, 0.007451601, -0.042516075, -0.031238358, 0.058707602, -0.04157129, -0.013705715, 0.061734956, -0.060350124, -0.011645956, -0.016604252, -0.021564562, -0.0022141838, 0.012144127, -0.054453216, 0.008860765, 0.032229885, 0.014706327, -0.00053116895, 0.05341072, 0.034553945, 0.06882061, -0.047098044, -0.00041248236, 0.009900149, -0.008395067, 0.023899695, -0.011659357, 0.041860577, 0.014470133, 0.029579235, -0.010679107, 0.023069374, 0.021666193, 0.07346236, -0.013810996, 0.050556365, 0.052161463, 0.014826486, 0.022851346, 0.031838816, -0.0094, 0.042634655, -0.023797918, -0.05211437, 0.05577114, 0.093027644, 0.08346271, 0.027971078, 0.003315748, 0.030963523, -0.005765763, -0.008556942, 0.042850178, 0.010279676, 0.04321906, -0.007697645, 0.049301464, -0.053149484, -0.003550992, 0.057209756, -0.039310124, -0.00045480576, -0.02795006, -0.058535494, 0.0024883403, 0.07883315, 0.018764399, 0.00074155687, 0.03622658, 0.027395215, 0.0018937223, 0.04885028, 0.01175026, -0.011829348, 0.014816745, 0.005432846, -0.0060935616, -0.022642627, 0.0022071516, 0.046285093, -0.010859412, 0.0076180724, 0.024671918, -0.054174192, -0.0858276, -0.009275588, -0.033509202, -0.00077608816, -0.0042860014, -0.053475, 0.02639177, -0.009901513, -0.04580522, -0.013648332, 0.03205679, 0.04541991, -0.031529773, 0.044348843, 0.004281137, -0.0573244, 0.014082336, -0.013914862, 0.028386533, -0.0520803, -0.04226406, -0.03428946, 0.057646018, -0.0055208565, -0.015006321, 0.0037289949, -0.057258572, -0.0028586893, 0.07130224, -0.014755485, -0.018939259, 0.04160828, 0.0032118745, 0.048494063, -0.040306546, -0.015000115, 0.031221187, -0.06415565, 0.030123979, -0.029418796, -0.0064031985, 0.023484029, 0.00039908086, 0.0019375833, 0.016851846, 0.0109101925, -0.04023016, -0.057724457, 0.034243423, -0.021207174, 0.025676085, -0.024961032, 0.037534315, -0.022608418, 0.047205973, 0.007382814, -0.08367387, 0.031044804, 0.0717188, 0.025269877, 0.031635765, 0.089118116, -0.019182831, 0.012771198, 0.03321989, -0.019626167, 0.038401563, -0.021937648, 0.06572804, 0.033543844, 0.018687414, -0.0315189, -0.014402616, -0.009423074, 0.042910185, -0.03174301, 0.03270011, 0.00032856123, -0.038758278, -0.020240054, -0.009032265, -0.072010145, 0.022636132, -0.04086137, 0.017147098, 0.03230132, -0.018940993, 0.04239884, 0.0021667911, 0.01023027, -0.010778907, 0.003991038, 0.0043867333, -0.011927509, -0.058948148, 0.03473902, 0.008408415, 0.025826897, -0.0078433715, 0.0309874, 0.009387951, 0.008791872, 0.028960774, -0.01904222, 0.04975498, 0.022196213, -0.06615538, 0.026177472, 0.04552724, 0.031029522, -0.000651479, -0.010336872, 0.005234134, -0.05640618, -0.04575868, 0.06527093, -0.05979994, -0.059515685, -0.009081465, 0.013937785, -0.04217636, -0.02913205, 0.017740238, -0.0037405563, 0.024786115, 0.045855492, -0.047202375, 0.0041613607, -0.0829105, 0.01986525, -0.09601653, -0.02354043, 0.016140353, 0.017124921, -0.04379083, 0.023062484, 0.012221303, 0.016770681, -0.013874675, -0.0358303, 0.024101803, 0.055862494, 0.07601974, -0.04441444, -0.0051413258, -0.045799855, 0.03641819, 0.037713327, 0.07149568, 0.064808935, 0.015614336, 0.022413533, 0.04681507, 0.005221028, 0.0123253735, 0.03037251, 0.025936158, -0.027499806, -0.04953826, -0.036536757, 0.037864223, -0.030596366, 0.013686902, -0.09195206, -0.018210515, 0.0065050297, 0.010727564, 0.0032928837, 0.006651411, -0.047969975, -0.052670214, 0.019902024, 0.00667384, -0.04440375, 0.015392852, 0.048876837, 0.07531155, -0.0009033295, 0.07102494, -0.003981824, 0.0007966351, 0.010986861, -0.022948785, 0.039266378, -0.04877407, 0.03439597, 0.007827421, -0.020646228, 0.06494943, -0.025828851, -0.016205426, -0.015459795, 0.011545224, -0.021480443, 0.011828646, -0.026458148, 0.05557093, 0.046150412, -0.037645303, 0.024267247, -0.03572698, 0.010908803, -0.01648239, -0.016536338, -0.06360933, 0.037474073, 0.020092495, -0.0411543, -0.011303222, 0.0516401, 0.027614048, -0.013284117, -0.0119229015, 0.042878423, 0.01759549, -0.011281313, 0.02099104, -0.034436505, 0.022409948, 0.073915206, 0.018855283, 0.012580805, -0.054730773, -0.032019116, -0.04488553, 0.045803428, 0.044678718, 0.00830849, -0.021815697, -0.05768176, 0.0049848175, -0.069700964, -0.0037578885, 0.024912378, -0.009958693, -0.04203876, -0.012402273, -0.021337707, 0.036298957, 0.002466786, -0.044552367, -0.061628584, -0.0052558244, 0.04615547, -0.024540475, -0.00421998, 0.0051255357, -0.0064304937, -0.030957146, 0.021273639, 0.03713511, -0.044771623, -0.033234254, 0.042172365, -0.028162513, 0.008189971, -0.0015918411, 0.044738024, 0.01330399, -0.0036958256, 0.004109268, -0.015516281, -0.046839807, 0.005608151, 0.030504111, -0.02494963, -0.02554837, 0.052648067, -0.021597087, 0.008091103, -0.019528816, -0.041720897, -0.018614758, -0.008425671, -0.014393811, 0.030035798, -0.07652829, 0.036986392, -0.064462535, -0.07679454, -0.046225827, -0.027649596, -0.03456485, -0.019925734, 0.06571341, -0.027231602, 0.014340486, 0.011184963, -0.03360477, -0.00995732, -0.05545065, 0.010163575, 0.0032063283, 0.03166049, -0.012437662, 0.01692451, 0.04383884, 0.0038002925, -0.059944123, 0.016285064, -0.032829534, -0.03165986, -0.015838651, -0.06864625, 0.04992927, -0.07041159, -0.021188075, 0.024264332, -0.008261169, 0.012985236, 0.01832914, -0.016190546, -0.014739809, -0.020420369, -0.015803229, 0.032698438, 0.045190465, -0.028450992, -0.010767294, -0.039484575, -0.05629453, -0.025649726, 0.0298446, -0.06546001, 0.033004113, 0.020780236, 0.029889109, -0.021004463, 0.023194078, -0.017705644, 0.017302206, 0.07939982, -0.050802216, 0.022492157, 0.025896756, -0.0044686776, -0.009272334, 0.020380748, -0.007323718, 0.0014200466, 0.022209678, 0.06571308, -0.03840199, 0.0149656385, 0.027305728, -0.005733649, -0.0032287159, 0.016352218, -0.021241589, -0.07657156, -0.016101085, 0.013410623, -0.066442035, -0.011053961, 0.03182396, -0.049855188, 0.037905835, -0.027225899, 0.06935472, -0.040623996, -0.0021298479, 0.025891978, 0.027538616, 0.04113996, 0.024066202, 0.012580294, -0.011981742, 0.030482365, -0.0053053177, 0.042083263, 0.034274686, -0.03952897, 0.02752649, -0.0028968323, -0.08493283, 0.019579027, -0.041575044, -0.029061118, -0.0035021328, 0.00055377214, -0.08863025, 0.03578102, 0.013569897, -0.028652085, 0.009959134, 0.03839272, 0.013594886, 0.017870273, 0.032608565, 0.011635495, -0.0028335215, 0.058481142, 0.010073657, -0.06827897, -0.044866532, 0.056016825, -0.04415742, -0.006056419, 0.0066922097, 0.029140668, 0.0030599795, 0.051171478, 0.014018977, -0.027761022, 0.0004254706, -0.03578257, -0.034978375, 0.047104746, 0.007701213, 0.028441254, 0.077428944, 0.018452777, -0.005995135, 0.021457557, 0.07061069, 0.015095078, -0.021496102, -0.06899232, 0.04668754, -0.0073156995, 0.0010088034, 0.007246551, 0.027173243, 0.04946666, -0.03596016, -0.041028082, -0.03799863, -0.021790206, -0.0298386, 0.057956316, 0.024947051, 0.018320484, 0.022817388, -0.000969189, 0.025937526, -0.007887037, 0.025258085, -0.014057917, -0.025278999, 0.014546947, -0.03599865, -0.018944196, -0.03893194, 0.039736804, 0.034818374, -0.032037653, -0.038688365, -0.005312922, 0.026520574, 0.033437464, -0.01844297, 0.024787107, -0.02468291, -0.06357938, -0.057022586, 0.0958153, 0.012231073, 0.06718751, 0.060263947, -0.0026179452, -0.009605246, -0.018638201, 0.006976693, 0.0015722238, -0.0024071012, 0.033736397, 0.013112699, -0.047760416, 0.01055294, 0.02243711, -0.06001381, -0.03265735, 0.071531475, 0.023266371, -0.08808153, -0.07774467, -0.046319537, 0.0033908302, 0.010606842, 0.0036907273, -0.031105239, 0.023103455, 0.0014170503, -0.016512731, -0.042508934, 0.032216962, -0.0071957144, -0.063792326, 0.01794588, 0.01705287, -0.017817205, -0.011300297, 0.0038774807, -0.053035494, -0.04258973, -0.012066406, 0.05257739, -0.097746, 0.044416677, 0.06648636, -0.00041714372, 0.043285154, 0.0010650697, -0.028126873, 0.040219616, 0.03414577, -0.02098355, -0.0050654863, -0.009383897, -0.022940245, 0.035487868, -0.05706648, 0.014503728, 0.033300668, -0.006816305, -0.066962086, -0.05503186, 0.036534134, -0.024645446, -0.0032497665, 0.009852772, 0.0030717005, 0.03149178, 0.0017638964, -0.042058248, -0.014695502, 0.036775924, 0.00024014307, -0.04713189, -0.023141336, 0.061398804, -0.0020786119, -0.025323503, 0.034549322, 0.028803036, 0.02286637, 0.028988663, 0.0065753814, -0.03016585, -0.05452744, 0.07516233, -0.015862448, -0.066283, -0.008818865, 0.02588571, -0.025228223, 0.09451932, 0.055244148, 0.008380358, 0.0072148866, -0.045175716, -0.034582198, 0.07129019, -0.028515514, 0.018608725, -0.009281384, -0.01294391, 0.040650826, -0.038394548, -0.029452203, 0.0051109255, -0.05480689, 0.08341969, 0.004676535, 0.03959139, -0.0431812, -0.08592689, -0.044217806, 0.0027203492, -0.013615453, 0.041178197, 0.02892102, -0.04069055, -0.026997505, -0.06794322, -0.02834482, -0.054562047, -0.03733677, -0.010393468, 0.033232152, 0.0045134895, 0.056787517, -0.03961198, -0.017350428, -0.04942797, 0.0074988445, 0.004682879, -0.039890632, -0.011383541, -0.00036998998, -0.008119088, 0.006851435, 0.06188853, -0.028266566, -0.0023046122]}\n"
          ]
        }
      ]
    },
    {
      "cell_type": "markdown",
      "source": [
        "**Starting the LLM structure.**"
      ],
      "metadata": {
        "id": "_Q9dcFAqHBay"
      }
    },
    {
      "cell_type": "code",
      "source": [
        "document1 = {\n",
        "    \"Título\": \"A revolução elétrica está nas ruas\",\n",
        "    \"Conteúdo\": \"Preparado para as ruas brasileiras, o Renault Kwid E-Tech 100% elétrico está revolucionando a mobilidade do país. Robustez de SUV com altura do solo de 16,6cm, 185 km* de autonomia com uma carga, e pode ser recarregado em qualquer lugar: tomadas, wallbox ou em mais de 3.000 pontos espalhados pelo país. Você ainda conta com a confiabilidade da maior e mais preparada rede de concessionárias de carros 100% elétricos. Encontre a mais próxima, faça um test drive e descubra o melhor da experiência elétrica.\"\n",
        "}\n",
        "document2 = {\n",
        "    \"Título\": \"Sobre a BYD\",\n",
        "    \"Conteúdo\": \"Fundada em 1995, a BYD é uma empresa líder em tecnologia dedicada a alavancar inovações para uma vida melhor. Com mais de 28 anos de experiência, a BYD se estabeleceu como líder do setor de eletrônicos, automotivo, energia renovável e transporte ferroviário. Como líder global com mais de 30 parques industriais em 6 continentes, as soluções de emissão zero da BYD, focadas na geração e armazenamento de energia, são expansivas e amplamente aplicáveis.\"\n",
        "}\n",
        "document3 = {\n",
        "    \"Título\": \"Seu primeiro elétrico!\",\n",
        "    \"Conteúdo\": \"O JAC E-JS1 possui baterias de fosfato de ferro-lítio, Provido de sistema de regeneração de carga, o modelo urbano é extremamente econômico: 10 kWh a cada 100 km. E-JS1 possui um excepcional rendimento, à medida que ele é leve. São somente 1.180 kg de peso em ordem de marcha. Por este motivo, o motor de 150 Nm (15,3 kgfm) de torque entrega um desempenho empolgante para um modelo urbano. São 62 cv de potência e ele vai de  0 a 100 km/h em 10,7 segundos!\"\n",
        "}\n",
        "\n",
        "documents = [document1, document2, document3]"
      ],
      "metadata": {
        "id": "YaFnglGzvpP6"
      },
      "execution_count": 88,
      "outputs": []
    },
    {
      "cell_type": "markdown",
      "source": [
        "**Convert to datasheet structure.**"
      ],
      "metadata": {
        "id": "Qfj3G_0OxnpF"
      }
    },
    {
      "cell_type": "code",
      "source": [
        "df = pd.DataFrame(documents)\n",
        "df.columns = [\"Titulo\", \"Conteudo\"]\n",
        "df"
      ],
      "metadata": {
        "colab": {
          "base_uri": "https://localhost:8080/",
          "height": 143
        },
        "id": "yTogtpQSxhy2",
        "outputId": "a61d7117-9c7c-4ba7-9283-1b786fe7f1d8"
      },
      "execution_count": 89,
      "outputs": [
        {
          "output_type": "execute_result",
          "data": {
            "text/plain": [
              "                               Titulo  \\\n",
              "0  A revolução elétrica está nas ruas   \n",
              "1                         Sobre a BYD   \n",
              "2              Seu primeiro elétrico!   \n",
              "\n",
              "                                            Conteudo  \n",
              "0  Preparado para as ruas brasileiras, o Renault ...  \n",
              "1  Fundada em 1995, a BYD é uma empresa líder em ...  \n",
              "2  O JAC E-JS1 possui baterias de fosfato de ferr...  "
            ],
            "text/html": [
              "\n",
              "  <div id=\"df-1366386b-44d1-4a01-a011-34ffd8b61c1d\" class=\"colab-df-container\">\n",
              "    <div>\n",
              "<style scoped>\n",
              "    .dataframe tbody tr th:only-of-type {\n",
              "        vertical-align: middle;\n",
              "    }\n",
              "\n",
              "    .dataframe tbody tr th {\n",
              "        vertical-align: top;\n",
              "    }\n",
              "\n",
              "    .dataframe thead th {\n",
              "        text-align: right;\n",
              "    }\n",
              "</style>\n",
              "<table border=\"1\" class=\"dataframe\">\n",
              "  <thead>\n",
              "    <tr style=\"text-align: right;\">\n",
              "      <th></th>\n",
              "      <th>Titulo</th>\n",
              "      <th>Conteudo</th>\n",
              "    </tr>\n",
              "  </thead>\n",
              "  <tbody>\n",
              "    <tr>\n",
              "      <th>0</th>\n",
              "      <td>A revolução elétrica está nas ruas</td>\n",
              "      <td>Preparado para as ruas brasileiras, o Renault ...</td>\n",
              "    </tr>\n",
              "    <tr>\n",
              "      <th>1</th>\n",
              "      <td>Sobre a BYD</td>\n",
              "      <td>Fundada em 1995, a BYD é uma empresa líder em ...</td>\n",
              "    </tr>\n",
              "    <tr>\n",
              "      <th>2</th>\n",
              "      <td>Seu primeiro elétrico!</td>\n",
              "      <td>O JAC E-JS1 possui baterias de fosfato de ferr...</td>\n",
              "    </tr>\n",
              "  </tbody>\n",
              "</table>\n",
              "</div>\n",
              "    <div class=\"colab-df-buttons\">\n",
              "\n",
              "  <div class=\"colab-df-container\">\n",
              "    <button class=\"colab-df-convert\" onclick=\"convertToInteractive('df-1366386b-44d1-4a01-a011-34ffd8b61c1d')\"\n",
              "            title=\"Convert this dataframe to an interactive table.\"\n",
              "            style=\"display:none;\">\n",
              "\n",
              "  <svg xmlns=\"http://www.w3.org/2000/svg\" height=\"24px\" viewBox=\"0 -960 960 960\">\n",
              "    <path d=\"M120-120v-720h720v720H120Zm60-500h600v-160H180v160Zm220 220h160v-160H400v160Zm0 220h160v-160H400v160ZM180-400h160v-160H180v160Zm440 0h160v-160H620v160ZM180-180h160v-160H180v160Zm440 0h160v-160H620v160Z\"/>\n",
              "  </svg>\n",
              "    </button>\n",
              "\n",
              "  <style>\n",
              "    .colab-df-container {\n",
              "      display:flex;\n",
              "      gap: 12px;\n",
              "    }\n",
              "\n",
              "    .colab-df-convert {\n",
              "      background-color: #E8F0FE;\n",
              "      border: none;\n",
              "      border-radius: 50%;\n",
              "      cursor: pointer;\n",
              "      display: none;\n",
              "      fill: #1967D2;\n",
              "      height: 32px;\n",
              "      padding: 0 0 0 0;\n",
              "      width: 32px;\n",
              "    }\n",
              "\n",
              "    .colab-df-convert:hover {\n",
              "      background-color: #E2EBFA;\n",
              "      box-shadow: 0px 1px 2px rgba(60, 64, 67, 0.3), 0px 1px 3px 1px rgba(60, 64, 67, 0.15);\n",
              "      fill: #174EA6;\n",
              "    }\n",
              "\n",
              "    .colab-df-buttons div {\n",
              "      margin-bottom: 4px;\n",
              "    }\n",
              "\n",
              "    [theme=dark] .colab-df-convert {\n",
              "      background-color: #3B4455;\n",
              "      fill: #D2E3FC;\n",
              "    }\n",
              "\n",
              "    [theme=dark] .colab-df-convert:hover {\n",
              "      background-color: #434B5C;\n",
              "      box-shadow: 0px 1px 3px 1px rgba(0, 0, 0, 0.15);\n",
              "      filter: drop-shadow(0px 1px 2px rgba(0, 0, 0, 0.3));\n",
              "      fill: #FFFFFF;\n",
              "    }\n",
              "  </style>\n",
              "\n",
              "    <script>\n",
              "      const buttonEl =\n",
              "        document.querySelector('#df-1366386b-44d1-4a01-a011-34ffd8b61c1d button.colab-df-convert');\n",
              "      buttonEl.style.display =\n",
              "        google.colab.kernel.accessAllowed ? 'block' : 'none';\n",
              "\n",
              "      async function convertToInteractive(key) {\n",
              "        const element = document.querySelector('#df-1366386b-44d1-4a01-a011-34ffd8b61c1d');\n",
              "        const dataTable =\n",
              "          await google.colab.kernel.invokeFunction('convertToInteractive',\n",
              "                                                    [key], {});\n",
              "        if (!dataTable) return;\n",
              "\n",
              "        const docLinkHtml = 'Like what you see? Visit the ' +\n",
              "          '<a target=\"_blank\" href=https://colab.research.google.com/notebooks/data_table.ipynb>data table notebook</a>'\n",
              "          + ' to learn more about interactive tables.';\n",
              "        element.innerHTML = '';\n",
              "        dataTable['output_type'] = 'display_data';\n",
              "        await google.colab.output.renderOutput(dataTable, element);\n",
              "        const docLink = document.createElement('div');\n",
              "        docLink.innerHTML = docLinkHtml;\n",
              "        element.appendChild(docLink);\n",
              "      }\n",
              "    </script>\n",
              "  </div>\n",
              "\n",
              "\n",
              "<div id=\"df-c8d7b4d4-8df8-4b3c-8201-447138e812c0\">\n",
              "  <button class=\"colab-df-quickchart\" onclick=\"quickchart('df-c8d7b4d4-8df8-4b3c-8201-447138e812c0')\"\n",
              "            title=\"Suggest charts\"\n",
              "            style=\"display:none;\">\n",
              "\n",
              "<svg xmlns=\"http://www.w3.org/2000/svg\" height=\"24px\"viewBox=\"0 0 24 24\"\n",
              "     width=\"24px\">\n",
              "    <g>\n",
              "        <path d=\"M19 3H5c-1.1 0-2 .9-2 2v14c0 1.1.9 2 2 2h14c1.1 0 2-.9 2-2V5c0-1.1-.9-2-2-2zM9 17H7v-7h2v7zm4 0h-2V7h2v10zm4 0h-2v-4h2v4z\"/>\n",
              "    </g>\n",
              "</svg>\n",
              "  </button>\n",
              "\n",
              "<style>\n",
              "  .colab-df-quickchart {\n",
              "      --bg-color: #E8F0FE;\n",
              "      --fill-color: #1967D2;\n",
              "      --hover-bg-color: #E2EBFA;\n",
              "      --hover-fill-color: #174EA6;\n",
              "      --disabled-fill-color: #AAA;\n",
              "      --disabled-bg-color: #DDD;\n",
              "  }\n",
              "\n",
              "  [theme=dark] .colab-df-quickchart {\n",
              "      --bg-color: #3B4455;\n",
              "      --fill-color: #D2E3FC;\n",
              "      --hover-bg-color: #434B5C;\n",
              "      --hover-fill-color: #FFFFFF;\n",
              "      --disabled-bg-color: #3B4455;\n",
              "      --disabled-fill-color: #666;\n",
              "  }\n",
              "\n",
              "  .colab-df-quickchart {\n",
              "    background-color: var(--bg-color);\n",
              "    border: none;\n",
              "    border-radius: 50%;\n",
              "    cursor: pointer;\n",
              "    display: none;\n",
              "    fill: var(--fill-color);\n",
              "    height: 32px;\n",
              "    padding: 0;\n",
              "    width: 32px;\n",
              "  }\n",
              "\n",
              "  .colab-df-quickchart:hover {\n",
              "    background-color: var(--hover-bg-color);\n",
              "    box-shadow: 0 1px 2px rgba(60, 64, 67, 0.3), 0 1px 3px 1px rgba(60, 64, 67, 0.15);\n",
              "    fill: var(--button-hover-fill-color);\n",
              "  }\n",
              "\n",
              "  .colab-df-quickchart-complete:disabled,\n",
              "  .colab-df-quickchart-complete:disabled:hover {\n",
              "    background-color: var(--disabled-bg-color);\n",
              "    fill: var(--disabled-fill-color);\n",
              "    box-shadow: none;\n",
              "  }\n",
              "\n",
              "  .colab-df-spinner {\n",
              "    border: 2px solid var(--fill-color);\n",
              "    border-color: transparent;\n",
              "    border-bottom-color: var(--fill-color);\n",
              "    animation:\n",
              "      spin 1s steps(1) infinite;\n",
              "  }\n",
              "\n",
              "  @keyframes spin {\n",
              "    0% {\n",
              "      border-color: transparent;\n",
              "      border-bottom-color: var(--fill-color);\n",
              "      border-left-color: var(--fill-color);\n",
              "    }\n",
              "    20% {\n",
              "      border-color: transparent;\n",
              "      border-left-color: var(--fill-color);\n",
              "      border-top-color: var(--fill-color);\n",
              "    }\n",
              "    30% {\n",
              "      border-color: transparent;\n",
              "      border-left-color: var(--fill-color);\n",
              "      border-top-color: var(--fill-color);\n",
              "      border-right-color: var(--fill-color);\n",
              "    }\n",
              "    40% {\n",
              "      border-color: transparent;\n",
              "      border-right-color: var(--fill-color);\n",
              "      border-top-color: var(--fill-color);\n",
              "    }\n",
              "    60% {\n",
              "      border-color: transparent;\n",
              "      border-right-color: var(--fill-color);\n",
              "    }\n",
              "    80% {\n",
              "      border-color: transparent;\n",
              "      border-right-color: var(--fill-color);\n",
              "      border-bottom-color: var(--fill-color);\n",
              "    }\n",
              "    90% {\n",
              "      border-color: transparent;\n",
              "      border-bottom-color: var(--fill-color);\n",
              "    }\n",
              "  }\n",
              "</style>\n",
              "\n",
              "  <script>\n",
              "    async function quickchart(key) {\n",
              "      const quickchartButtonEl =\n",
              "        document.querySelector('#' + key + ' button');\n",
              "      quickchartButtonEl.disabled = true;  // To prevent multiple clicks.\n",
              "      quickchartButtonEl.classList.add('colab-df-spinner');\n",
              "      try {\n",
              "        const charts = await google.colab.kernel.invokeFunction(\n",
              "            'suggestCharts', [key], {});\n",
              "      } catch (error) {\n",
              "        console.error('Error during call to suggestCharts:', error);\n",
              "      }\n",
              "      quickchartButtonEl.classList.remove('colab-df-spinner');\n",
              "      quickchartButtonEl.classList.add('colab-df-quickchart-complete');\n",
              "    }\n",
              "    (() => {\n",
              "      let quickchartButtonEl =\n",
              "        document.querySelector('#df-c8d7b4d4-8df8-4b3c-8201-447138e812c0 button');\n",
              "      quickchartButtonEl.style.display =\n",
              "        google.colab.kernel.accessAllowed ? 'block' : 'none';\n",
              "    })();\n",
              "  </script>\n",
              "</div>\n",
              "\n",
              "  <div id=\"id_af251096-e12d-4152-9fde-670a19760184\">\n",
              "    <style>\n",
              "      .colab-df-generate {\n",
              "        background-color: #E8F0FE;\n",
              "        border: none;\n",
              "        border-radius: 50%;\n",
              "        cursor: pointer;\n",
              "        display: none;\n",
              "        fill: #1967D2;\n",
              "        height: 32px;\n",
              "        padding: 0 0 0 0;\n",
              "        width: 32px;\n",
              "      }\n",
              "\n",
              "      .colab-df-generate:hover {\n",
              "        background-color: #E2EBFA;\n",
              "        box-shadow: 0px 1px 2px rgba(60, 64, 67, 0.3), 0px 1px 3px 1px rgba(60, 64, 67, 0.15);\n",
              "        fill: #174EA6;\n",
              "      }\n",
              "\n",
              "      [theme=dark] .colab-df-generate {\n",
              "        background-color: #3B4455;\n",
              "        fill: #D2E3FC;\n",
              "      }\n",
              "\n",
              "      [theme=dark] .colab-df-generate:hover {\n",
              "        background-color: #434B5C;\n",
              "        box-shadow: 0px 1px 3px 1px rgba(0, 0, 0, 0.15);\n",
              "        filter: drop-shadow(0px 1px 2px rgba(0, 0, 0, 0.3));\n",
              "        fill: #FFFFFF;\n",
              "      }\n",
              "    </style>\n",
              "    <button class=\"colab-df-generate\" onclick=\"generateWithVariable('df')\"\n",
              "            title=\"Generate code using this dataframe.\"\n",
              "            style=\"display:none;\">\n",
              "\n",
              "  <svg xmlns=\"http://www.w3.org/2000/svg\" height=\"24px\"viewBox=\"0 0 24 24\"\n",
              "       width=\"24px\">\n",
              "    <path d=\"M7,19H8.4L18.45,9,17,7.55,7,17.6ZM5,21V16.75L18.45,3.32a2,2,0,0,1,2.83,0l1.4,1.43a1.91,1.91,0,0,1,.58,1.4,1.91,1.91,0,0,1-.58,1.4L9.25,21ZM18.45,9,17,7.55Zm-12,3A5.31,5.31,0,0,0,4.9,8.1,5.31,5.31,0,0,0,1,6.5,5.31,5.31,0,0,0,4.9,4.9,5.31,5.31,0,0,0,6.5,1,5.31,5.31,0,0,0,8.1,4.9,5.31,5.31,0,0,0,12,6.5,5.46,5.46,0,0,0,6.5,12Z\"/>\n",
              "  </svg>\n",
              "    </button>\n",
              "    <script>\n",
              "      (() => {\n",
              "      const buttonEl =\n",
              "        document.querySelector('#id_af251096-e12d-4152-9fde-670a19760184 button.colab-df-generate');\n",
              "      buttonEl.style.display =\n",
              "        google.colab.kernel.accessAllowed ? 'block' : 'none';\n",
              "\n",
              "      buttonEl.onclick = () => {\n",
              "        google.colab.notebook.generateWithVariable('df');\n",
              "      }\n",
              "      })();\n",
              "    </script>\n",
              "  </div>\n",
              "\n",
              "    </div>\n",
              "  </div>\n"
            ],
            "application/vnd.google.colaboratory.intrinsic+json": {
              "type": "dataframe",
              "variable_name": "df",
              "summary": "{\n  \"name\": \"df\",\n  \"rows\": 3,\n  \"fields\": [\n    {\n      \"column\": \"Titulo\",\n      \"properties\": {\n        \"dtype\": \"string\",\n        \"num_unique_values\": 3,\n        \"samples\": [\n          \"A revolu\\u00e7\\u00e3o el\\u00e9trica est\\u00e1 nas ruas\",\n          \"Sobre a BYD\",\n          \"Seu primeiro el\\u00e9trico!\"\n        ],\n        \"semantic_type\": \"\",\n        \"description\": \"\"\n      }\n    },\n    {\n      \"column\": \"Conteudo\",\n      \"properties\": {\n        \"dtype\": \"string\",\n        \"num_unique_values\": 3,\n        \"samples\": [\n          \"Preparado para as ruas brasileiras, o Renault Kwid E-Tech 100% el\\u00e9trico est\\u00e1 revolucionando a mobilidade do pa\\u00eds. Robustez de SUV com altura do solo de 16,6cm, 185 km* de autonomia com uma carga, e pode ser recarregado em qualquer lugar: tomadas, wallbox ou em mais de 3.000 pontos espalhados pelo pa\\u00eds. Voc\\u00ea ainda conta com a confiabilidade da maior e mais preparada rede de concession\\u00e1rias de carros 100% el\\u00e9tricos. Encontre a mais pr\\u00f3xima, fa\\u00e7a um test drive e descubra o melhor da experi\\u00eancia el\\u00e9trica.\",\n          \"Fundada em 1995, a BYD \\u00e9 uma empresa l\\u00edder em tecnologia dedicada a alavancar inova\\u00e7\\u00f5es para uma vida melhor. Com mais de 28 anos de experi\\u00eancia, a BYD se estabeleceu como l\\u00edder do setor de eletr\\u00f4nicos, automotivo, energia renov\\u00e1vel e transporte ferrovi\\u00e1rio. Como l\\u00edder global com mais de 30 parques industriais em 6 continentes, as solu\\u00e7\\u00f5es de emiss\\u00e3o zero da BYD, focadas na gera\\u00e7\\u00e3o e armazenamento de energia, s\\u00e3o expansivas e amplamente aplic\\u00e1veis.\",\n          \"O JAC E-JS1 possui baterias de fosfato de ferro-l\\u00edtio, Provido de sistema de regenera\\u00e7\\u00e3o de carga, o modelo urbano \\u00e9 extremamente econ\\u00f4mico: 10 kWh a cada 100 km. E-JS1 possui um excepcional rendimento, \\u00e0 medida que ele \\u00e9 leve. S\\u00e3o somente 1.180 kg de peso em ordem de marcha. Por este motivo, o motor de 150 Nm (15,3 kgfm) de torque entrega um desempenho empolgante para um modelo urbano. S\\u00e3o 62 cv de pot\\u00eancia e ele vai de  0 a 100 km/h em 10,7 segundos!\"\n        ],\n        \"semantic_type\": \"\",\n        \"description\": \"\"\n      }\n    }\n  ]\n}"
            }
          },
          "metadata": {},
          "execution_count": 89
        }
      ]
    },
    {
      "cell_type": "markdown",
      "source": [
        "**Using the model.**"
      ],
      "metadata": {
        "id": "u70jRppS1dX_"
      }
    },
    {
      "cell_type": "code",
      "source": [
        "model = \"models/embedding-001\"\n"
      ],
      "metadata": {
        "id": "CX6WFq8F0LmY"
      },
      "execution_count": 90,
      "outputs": []
    },
    {
      "cell_type": "markdown",
      "source": [
        "**Defining functions to read embeddings.**"
      ],
      "metadata": {
        "id": "dWvNSw131XN0"
      }
    },
    {
      "cell_type": "code",
      "source": [
        "def embed_fn(tittle, text):\n",
        "  return genai.embed_content(model,\n",
        "                                 content=text,\n",
        "                                 title=title,\n",
        "                                 task_type=\"RETRIEVAL_DOCUMENT\")[\"embedding\"]"
      ],
      "metadata": {
        "id": "Rtos0OeM0eQU"
      },
      "execution_count": 91,
      "outputs": []
    },
    {
      "cell_type": "code",
      "source": [],
      "metadata": {
        "id": "CxEWHgVH1RQL"
      },
      "execution_count": null,
      "outputs": []
    },
    {
      "cell_type": "markdown",
      "source": [
        "**Creating a new collum to receive embedding code**"
      ],
      "metadata": {
        "id": "ralUSJrO1g_y"
      }
    },
    {
      "cell_type": "code",
      "source": [
        "df[\"Embeddings\"] = df.apply(lambda row: embed_fn(row[\"Titulo\"], row[\"Conteudo\"]), axis=1)\n",
        "df"
      ],
      "metadata": {
        "colab": {
          "base_uri": "https://localhost:8080/",
          "height": 143
        },
        "id": "J75zCCTe1mep",
        "outputId": "f7867ff6-919f-4d66-d1aa-feb2579d4215"
      },
      "execution_count": 92,
      "outputs": [
        {
          "output_type": "execute_result",
          "data": {
            "text/plain": [
              "                               Titulo  \\\n",
              "0  A revolução elétrica está nas ruas   \n",
              "1                         Sobre a BYD   \n",
              "2              Seu primeiro elétrico!   \n",
              "\n",
              "                                            Conteudo  \\\n",
              "0  Preparado para as ruas brasileiras, o Renault ...   \n",
              "1  Fundada em 1995, a BYD é uma empresa líder em ...   \n",
              "2  O JAC E-JS1 possui baterias de fosfato de ferr...   \n",
              "\n",
              "                                          Embeddings  \n",
              "0  [0.05601931, -0.0038169993, -0.04414298, -0.01...  \n",
              "1  [0.0073059625, -0.025836313, -0.050422512, 0.0...  \n",
              "2  [0.028698934, -0.046775434, -0.013149687, -0.0...  "
            ],
            "text/html": [
              "\n",
              "  <div id=\"df-cddcce76-9bde-471e-83fe-2dc5ffa1613e\" class=\"colab-df-container\">\n",
              "    <div>\n",
              "<style scoped>\n",
              "    .dataframe tbody tr th:only-of-type {\n",
              "        vertical-align: middle;\n",
              "    }\n",
              "\n",
              "    .dataframe tbody tr th {\n",
              "        vertical-align: top;\n",
              "    }\n",
              "\n",
              "    .dataframe thead th {\n",
              "        text-align: right;\n",
              "    }\n",
              "</style>\n",
              "<table border=\"1\" class=\"dataframe\">\n",
              "  <thead>\n",
              "    <tr style=\"text-align: right;\">\n",
              "      <th></th>\n",
              "      <th>Titulo</th>\n",
              "      <th>Conteudo</th>\n",
              "      <th>Embeddings</th>\n",
              "    </tr>\n",
              "  </thead>\n",
              "  <tbody>\n",
              "    <tr>\n",
              "      <th>0</th>\n",
              "      <td>A revolução elétrica está nas ruas</td>\n",
              "      <td>Preparado para as ruas brasileiras, o Renault ...</td>\n",
              "      <td>[0.05601931, -0.0038169993, -0.04414298, -0.01...</td>\n",
              "    </tr>\n",
              "    <tr>\n",
              "      <th>1</th>\n",
              "      <td>Sobre a BYD</td>\n",
              "      <td>Fundada em 1995, a BYD é uma empresa líder em ...</td>\n",
              "      <td>[0.0073059625, -0.025836313, -0.050422512, 0.0...</td>\n",
              "    </tr>\n",
              "    <tr>\n",
              "      <th>2</th>\n",
              "      <td>Seu primeiro elétrico!</td>\n",
              "      <td>O JAC E-JS1 possui baterias de fosfato de ferr...</td>\n",
              "      <td>[0.028698934, -0.046775434, -0.013149687, -0.0...</td>\n",
              "    </tr>\n",
              "  </tbody>\n",
              "</table>\n",
              "</div>\n",
              "    <div class=\"colab-df-buttons\">\n",
              "\n",
              "  <div class=\"colab-df-container\">\n",
              "    <button class=\"colab-df-convert\" onclick=\"convertToInteractive('df-cddcce76-9bde-471e-83fe-2dc5ffa1613e')\"\n",
              "            title=\"Convert this dataframe to an interactive table.\"\n",
              "            style=\"display:none;\">\n",
              "\n",
              "  <svg xmlns=\"http://www.w3.org/2000/svg\" height=\"24px\" viewBox=\"0 -960 960 960\">\n",
              "    <path d=\"M120-120v-720h720v720H120Zm60-500h600v-160H180v160Zm220 220h160v-160H400v160Zm0 220h160v-160H400v160ZM180-400h160v-160H180v160Zm440 0h160v-160H620v160ZM180-180h160v-160H180v160Zm440 0h160v-160H620v160Z\"/>\n",
              "  </svg>\n",
              "    </button>\n",
              "\n",
              "  <style>\n",
              "    .colab-df-container {\n",
              "      display:flex;\n",
              "      gap: 12px;\n",
              "    }\n",
              "\n",
              "    .colab-df-convert {\n",
              "      background-color: #E8F0FE;\n",
              "      border: none;\n",
              "      border-radius: 50%;\n",
              "      cursor: pointer;\n",
              "      display: none;\n",
              "      fill: #1967D2;\n",
              "      height: 32px;\n",
              "      padding: 0 0 0 0;\n",
              "      width: 32px;\n",
              "    }\n",
              "\n",
              "    .colab-df-convert:hover {\n",
              "      background-color: #E2EBFA;\n",
              "      box-shadow: 0px 1px 2px rgba(60, 64, 67, 0.3), 0px 1px 3px 1px rgba(60, 64, 67, 0.15);\n",
              "      fill: #174EA6;\n",
              "    }\n",
              "\n",
              "    .colab-df-buttons div {\n",
              "      margin-bottom: 4px;\n",
              "    }\n",
              "\n",
              "    [theme=dark] .colab-df-convert {\n",
              "      background-color: #3B4455;\n",
              "      fill: #D2E3FC;\n",
              "    }\n",
              "\n",
              "    [theme=dark] .colab-df-convert:hover {\n",
              "      background-color: #434B5C;\n",
              "      box-shadow: 0px 1px 3px 1px rgba(0, 0, 0, 0.15);\n",
              "      filter: drop-shadow(0px 1px 2px rgba(0, 0, 0, 0.3));\n",
              "      fill: #FFFFFF;\n",
              "    }\n",
              "  </style>\n",
              "\n",
              "    <script>\n",
              "      const buttonEl =\n",
              "        document.querySelector('#df-cddcce76-9bde-471e-83fe-2dc5ffa1613e button.colab-df-convert');\n",
              "      buttonEl.style.display =\n",
              "        google.colab.kernel.accessAllowed ? 'block' : 'none';\n",
              "\n",
              "      async function convertToInteractive(key) {\n",
              "        const element = document.querySelector('#df-cddcce76-9bde-471e-83fe-2dc5ffa1613e');\n",
              "        const dataTable =\n",
              "          await google.colab.kernel.invokeFunction('convertToInteractive',\n",
              "                                                    [key], {});\n",
              "        if (!dataTable) return;\n",
              "\n",
              "        const docLinkHtml = 'Like what you see? Visit the ' +\n",
              "          '<a target=\"_blank\" href=https://colab.research.google.com/notebooks/data_table.ipynb>data table notebook</a>'\n",
              "          + ' to learn more about interactive tables.';\n",
              "        element.innerHTML = '';\n",
              "        dataTable['output_type'] = 'display_data';\n",
              "        await google.colab.output.renderOutput(dataTable, element);\n",
              "        const docLink = document.createElement('div');\n",
              "        docLink.innerHTML = docLinkHtml;\n",
              "        element.appendChild(docLink);\n",
              "      }\n",
              "    </script>\n",
              "  </div>\n",
              "\n",
              "\n",
              "<div id=\"df-4ebfec8d-4fa9-40a1-ac2d-ee0a9409bb47\">\n",
              "  <button class=\"colab-df-quickchart\" onclick=\"quickchart('df-4ebfec8d-4fa9-40a1-ac2d-ee0a9409bb47')\"\n",
              "            title=\"Suggest charts\"\n",
              "            style=\"display:none;\">\n",
              "\n",
              "<svg xmlns=\"http://www.w3.org/2000/svg\" height=\"24px\"viewBox=\"0 0 24 24\"\n",
              "     width=\"24px\">\n",
              "    <g>\n",
              "        <path d=\"M19 3H5c-1.1 0-2 .9-2 2v14c0 1.1.9 2 2 2h14c1.1 0 2-.9 2-2V5c0-1.1-.9-2-2-2zM9 17H7v-7h2v7zm4 0h-2V7h2v10zm4 0h-2v-4h2v4z\"/>\n",
              "    </g>\n",
              "</svg>\n",
              "  </button>\n",
              "\n",
              "<style>\n",
              "  .colab-df-quickchart {\n",
              "      --bg-color: #E8F0FE;\n",
              "      --fill-color: #1967D2;\n",
              "      --hover-bg-color: #E2EBFA;\n",
              "      --hover-fill-color: #174EA6;\n",
              "      --disabled-fill-color: #AAA;\n",
              "      --disabled-bg-color: #DDD;\n",
              "  }\n",
              "\n",
              "  [theme=dark] .colab-df-quickchart {\n",
              "      --bg-color: #3B4455;\n",
              "      --fill-color: #D2E3FC;\n",
              "      --hover-bg-color: #434B5C;\n",
              "      --hover-fill-color: #FFFFFF;\n",
              "      --disabled-bg-color: #3B4455;\n",
              "      --disabled-fill-color: #666;\n",
              "  }\n",
              "\n",
              "  .colab-df-quickchart {\n",
              "    background-color: var(--bg-color);\n",
              "    border: none;\n",
              "    border-radius: 50%;\n",
              "    cursor: pointer;\n",
              "    display: none;\n",
              "    fill: var(--fill-color);\n",
              "    height: 32px;\n",
              "    padding: 0;\n",
              "    width: 32px;\n",
              "  }\n",
              "\n",
              "  .colab-df-quickchart:hover {\n",
              "    background-color: var(--hover-bg-color);\n",
              "    box-shadow: 0 1px 2px rgba(60, 64, 67, 0.3), 0 1px 3px 1px rgba(60, 64, 67, 0.15);\n",
              "    fill: var(--button-hover-fill-color);\n",
              "  }\n",
              "\n",
              "  .colab-df-quickchart-complete:disabled,\n",
              "  .colab-df-quickchart-complete:disabled:hover {\n",
              "    background-color: var(--disabled-bg-color);\n",
              "    fill: var(--disabled-fill-color);\n",
              "    box-shadow: none;\n",
              "  }\n",
              "\n",
              "  .colab-df-spinner {\n",
              "    border: 2px solid var(--fill-color);\n",
              "    border-color: transparent;\n",
              "    border-bottom-color: var(--fill-color);\n",
              "    animation:\n",
              "      spin 1s steps(1) infinite;\n",
              "  }\n",
              "\n",
              "  @keyframes spin {\n",
              "    0% {\n",
              "      border-color: transparent;\n",
              "      border-bottom-color: var(--fill-color);\n",
              "      border-left-color: var(--fill-color);\n",
              "    }\n",
              "    20% {\n",
              "      border-color: transparent;\n",
              "      border-left-color: var(--fill-color);\n",
              "      border-top-color: var(--fill-color);\n",
              "    }\n",
              "    30% {\n",
              "      border-color: transparent;\n",
              "      border-left-color: var(--fill-color);\n",
              "      border-top-color: var(--fill-color);\n",
              "      border-right-color: var(--fill-color);\n",
              "    }\n",
              "    40% {\n",
              "      border-color: transparent;\n",
              "      border-right-color: var(--fill-color);\n",
              "      border-top-color: var(--fill-color);\n",
              "    }\n",
              "    60% {\n",
              "      border-color: transparent;\n",
              "      border-right-color: var(--fill-color);\n",
              "    }\n",
              "    80% {\n",
              "      border-color: transparent;\n",
              "      border-right-color: var(--fill-color);\n",
              "      border-bottom-color: var(--fill-color);\n",
              "    }\n",
              "    90% {\n",
              "      border-color: transparent;\n",
              "      border-bottom-color: var(--fill-color);\n",
              "    }\n",
              "  }\n",
              "</style>\n",
              "\n",
              "  <script>\n",
              "    async function quickchart(key) {\n",
              "      const quickchartButtonEl =\n",
              "        document.querySelector('#' + key + ' button');\n",
              "      quickchartButtonEl.disabled = true;  // To prevent multiple clicks.\n",
              "      quickchartButtonEl.classList.add('colab-df-spinner');\n",
              "      try {\n",
              "        const charts = await google.colab.kernel.invokeFunction(\n",
              "            'suggestCharts', [key], {});\n",
              "      } catch (error) {\n",
              "        console.error('Error during call to suggestCharts:', error);\n",
              "      }\n",
              "      quickchartButtonEl.classList.remove('colab-df-spinner');\n",
              "      quickchartButtonEl.classList.add('colab-df-quickchart-complete');\n",
              "    }\n",
              "    (() => {\n",
              "      let quickchartButtonEl =\n",
              "        document.querySelector('#df-4ebfec8d-4fa9-40a1-ac2d-ee0a9409bb47 button');\n",
              "      quickchartButtonEl.style.display =\n",
              "        google.colab.kernel.accessAllowed ? 'block' : 'none';\n",
              "    })();\n",
              "  </script>\n",
              "</div>\n",
              "\n",
              "  <div id=\"id_f92d358b-e633-42ad-9de5-08826bb50672\">\n",
              "    <style>\n",
              "      .colab-df-generate {\n",
              "        background-color: #E8F0FE;\n",
              "        border: none;\n",
              "        border-radius: 50%;\n",
              "        cursor: pointer;\n",
              "        display: none;\n",
              "        fill: #1967D2;\n",
              "        height: 32px;\n",
              "        padding: 0 0 0 0;\n",
              "        width: 32px;\n",
              "      }\n",
              "\n",
              "      .colab-df-generate:hover {\n",
              "        background-color: #E2EBFA;\n",
              "        box-shadow: 0px 1px 2px rgba(60, 64, 67, 0.3), 0px 1px 3px 1px rgba(60, 64, 67, 0.15);\n",
              "        fill: #174EA6;\n",
              "      }\n",
              "\n",
              "      [theme=dark] .colab-df-generate {\n",
              "        background-color: #3B4455;\n",
              "        fill: #D2E3FC;\n",
              "      }\n",
              "\n",
              "      [theme=dark] .colab-df-generate:hover {\n",
              "        background-color: #434B5C;\n",
              "        box-shadow: 0px 1px 3px 1px rgba(0, 0, 0, 0.15);\n",
              "        filter: drop-shadow(0px 1px 2px rgba(0, 0, 0, 0.3));\n",
              "        fill: #FFFFFF;\n",
              "      }\n",
              "    </style>\n",
              "    <button class=\"colab-df-generate\" onclick=\"generateWithVariable('df')\"\n",
              "            title=\"Generate code using this dataframe.\"\n",
              "            style=\"display:none;\">\n",
              "\n",
              "  <svg xmlns=\"http://www.w3.org/2000/svg\" height=\"24px\"viewBox=\"0 0 24 24\"\n",
              "       width=\"24px\">\n",
              "    <path d=\"M7,19H8.4L18.45,9,17,7.55,7,17.6ZM5,21V16.75L18.45,3.32a2,2,0,0,1,2.83,0l1.4,1.43a1.91,1.91,0,0,1,.58,1.4,1.91,1.91,0,0,1-.58,1.4L9.25,21ZM18.45,9,17,7.55Zm-12,3A5.31,5.31,0,0,0,4.9,8.1,5.31,5.31,0,0,0,1,6.5,5.31,5.31,0,0,0,4.9,4.9,5.31,5.31,0,0,0,6.5,1,5.31,5.31,0,0,0,8.1,4.9,5.31,5.31,0,0,0,12,6.5,5.46,5.46,0,0,0,6.5,12Z\"/>\n",
              "  </svg>\n",
              "    </button>\n",
              "    <script>\n",
              "      (() => {\n",
              "      const buttonEl =\n",
              "        document.querySelector('#id_f92d358b-e633-42ad-9de5-08826bb50672 button.colab-df-generate');\n",
              "      buttonEl.style.display =\n",
              "        google.colab.kernel.accessAllowed ? 'block' : 'none';\n",
              "\n",
              "      buttonEl.onclick = () => {\n",
              "        google.colab.notebook.generateWithVariable('df');\n",
              "      }\n",
              "      })();\n",
              "    </script>\n",
              "  </div>\n",
              "\n",
              "    </div>\n",
              "  </div>\n"
            ],
            "application/vnd.google.colaboratory.intrinsic+json": {
              "type": "dataframe",
              "variable_name": "df",
              "summary": "{\n  \"name\": \"df\",\n  \"rows\": 3,\n  \"fields\": [\n    {\n      \"column\": \"Titulo\",\n      \"properties\": {\n        \"dtype\": \"string\",\n        \"num_unique_values\": 3,\n        \"samples\": [\n          \"A revolu\\u00e7\\u00e3o el\\u00e9trica est\\u00e1 nas ruas\",\n          \"Sobre a BYD\",\n          \"Seu primeiro el\\u00e9trico!\"\n        ],\n        \"semantic_type\": \"\",\n        \"description\": \"\"\n      }\n    },\n    {\n      \"column\": \"Conteudo\",\n      \"properties\": {\n        \"dtype\": \"string\",\n        \"num_unique_values\": 3,\n        \"samples\": [\n          \"Preparado para as ruas brasileiras, o Renault Kwid E-Tech 100% el\\u00e9trico est\\u00e1 revolucionando a mobilidade do pa\\u00eds. Robustez de SUV com altura do solo de 16,6cm, 185 km* de autonomia com uma carga, e pode ser recarregado em qualquer lugar: tomadas, wallbox ou em mais de 3.000 pontos espalhados pelo pa\\u00eds. Voc\\u00ea ainda conta com a confiabilidade da maior e mais preparada rede de concession\\u00e1rias de carros 100% el\\u00e9tricos. Encontre a mais pr\\u00f3xima, fa\\u00e7a um test drive e descubra o melhor da experi\\u00eancia el\\u00e9trica.\",\n          \"Fundada em 1995, a BYD \\u00e9 uma empresa l\\u00edder em tecnologia dedicada a alavancar inova\\u00e7\\u00f5es para uma vida melhor. Com mais de 28 anos de experi\\u00eancia, a BYD se estabeleceu como l\\u00edder do setor de eletr\\u00f4nicos, automotivo, energia renov\\u00e1vel e transporte ferrovi\\u00e1rio. Como l\\u00edder global com mais de 30 parques industriais em 6 continentes, as solu\\u00e7\\u00f5es de emiss\\u00e3o zero da BYD, focadas na gera\\u00e7\\u00e3o e armazenamento de energia, s\\u00e3o expansivas e amplamente aplic\\u00e1veis.\",\n          \"O JAC E-JS1 possui baterias de fosfato de ferro-l\\u00edtio, Provido de sistema de regenera\\u00e7\\u00e3o de carga, o modelo urbano \\u00e9 extremamente econ\\u00f4mico: 10 kWh a cada 100 km. E-JS1 possui um excepcional rendimento, \\u00e0 medida que ele \\u00e9 leve. S\\u00e3o somente 1.180 kg de peso em ordem de marcha. Por este motivo, o motor de 150 Nm (15,3 kgfm) de torque entrega um desempenho empolgante para um modelo urbano. S\\u00e3o 62 cv de pot\\u00eancia e ele vai de  0 a 100 km/h em 10,7 segundos!\"\n        ],\n        \"semantic_type\": \"\",\n        \"description\": \"\"\n      }\n    },\n    {\n      \"column\": \"Embeddings\",\n      \"properties\": {\n        \"dtype\": \"object\",\n        \"semantic_type\": \"\",\n        \"description\": \"\"\n      }\n    }\n  ]\n}"
            }
          },
          "metadata": {},
          "execution_count": 92
        }
      ]
    },
    {
      "cell_type": "markdown",
      "source": [
        "**Distance - to compare**"
      ],
      "metadata": {
        "id": "yPb7qAb_5FFL"
      }
    },
    {
      "cell_type": "code",
      "source": [
        "def build_and_bring_find(consult, base, model):\n",
        "  embedding_find = genai.embed_content(model=model,\n",
        "                                       content=consult,\n",
        "                                       task_type=\"RETRIEVAL_QUERY\")[\"embedding\"]\n",
        "  prod_scalar = np.dot(np.stack(df['Embeddings']), embedding_find)\n",
        "  indice = np.argmax(prod_scalar)\n",
        "  return df.iloc[indice][\"Conteudo\"]\n",
        "\n",
        ""
      ],
      "metadata": {
        "id": "W0_HKg457M07"
      },
      "execution_count": 93,
      "outputs": []
    },
    {
      "cell_type": "markdown",
      "source": [
        "**Make the inquiry.**\n",
        "\n"
      ],
      "metadata": {
        "id": "ZbuSRvf8BWfZ"
      }
    },
    {
      "cell_type": "code",
      "source": [
        "consult = \"Criada na década de 90?\"\n",
        "\n",
        "retornar = build_and_bring_find(consult, df, model)\n",
        "print(retornar)"
      ],
      "metadata": {
        "colab": {
          "base_uri": "https://localhost:8080/",
          "height": 54
        },
        "id": "VbuYu0Ny90r2",
        "outputId": "06298f1e-a588-44ce-a7ff-a3393bea7853"
      },
      "execution_count": 94,
      "outputs": [
        {
          "output_type": "stream",
          "name": "stdout",
          "text": [
            "Fundada em 1995, a BYD é uma empresa líder em tecnologia dedicada a alavancar inovações para uma vida melhor. Com mais de 28 anos de experiência, a BYD se estabeleceu como líder do setor de eletrônicos, automotivo, energia renovável e transporte ferroviário. Como líder global com mais de 30 parques industriais em 6 continentes, as soluções de emissão zero da BYD, focadas na geração e armazenamento de energia, são expansivas e amplamente aplicáveis.\n"
          ]
        }
      ]
    }
  ]
}