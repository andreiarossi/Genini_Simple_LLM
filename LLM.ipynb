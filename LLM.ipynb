{
  "nbformat": 4,
  "nbformat_minor": 0,
  "metadata": {
    "colab": {
      "provenance": [],
      "authorship_tag": "ABX9TyNkEWc06tS1DTVoMnfEX17Z",
      "include_colab_link": true
    },
    "kernelspec": {
      "name": "python3",
      "display_name": "Python 3"
    },
    "language_info": {
      "name": "python"
    }
  },
  "cells": [
    {
      "cell_type": "markdown",
      "metadata": {
        "id": "view-in-github",
        "colab_type": "text"
      },
      "source": [
        "<a href=\"https://colab.research.google.com/github/andreiarossi/Genini_Simple_LLM/blob/main/LLM.ipynb\" target=\"_parent\"><img src=\"https://colab.research.google.com/assets/colab-badge.svg\" alt=\"Open In Colab\"/></a>"
      ]
    },
    {
      "cell_type": "markdown",
      "source": [
        "**Install Google SDK**"
      ],
      "metadata": {
        "id": "IvC_c-xVk1Zw"
      }
    },
    {
      "cell_type": "code",
      "execution_count": 1,
      "metadata": {
        "id": "aHOJZyFikiTO"
      },
      "outputs": [],
      "source": [
        "!pip install -q -U google-generativeai"
      ]
    },
    {
      "cell_type": "markdown",
      "source": [
        "**Imports**"
      ],
      "metadata": {
        "id": "dlTg8MlEnZUv"
      }
    },
    {
      "cell_type": "code",
      "source": [
        "# Import the Python SDK\n",
        "import pandas as pd\n",
        "import numpy as np\n",
        "import google.generativeai as genai\n",
        "# Used to securely store your API key\n",
        "from google.colab import userdata\n",
        "api_key = userdata.get('SECRET_KEY')\n",
        "genai.configure(api_key=api_key)"
      ],
      "metadata": {
        "id": "s4_nGj1tlUXV"
      },
      "execution_count": 57,
      "outputs": []
    },
    {
      "cell_type": "markdown",
      "source": [
        "**Verify EmbedModels**\n",
        "https://ai.google.dev/gemini-api/docs/embeddings?hl=pt-br"
      ],
      "metadata": {
        "id": "pD4_D-tBmn49"
      }
    },
    {
      "cell_type": "markdown",
      "source": [
        "**Ckeking the models versions**"
      ],
      "metadata": {
        "id": "l4UGXUcDHU-v"
      }
    },
    {
      "cell_type": "code",
      "source": [
        "for m in genai.list_models():\n",
        "  if 'embedContent' in m.supported_generation_methods:\n",
        "    print(m.name)\n"
      ],
      "metadata": {
        "colab": {
          "base_uri": "https://localhost:8080/",
          "height": 52
        },
        "id": "NlewgBV7mGrX",
        "outputId": "bf27cdb5-f495-492c-90ff-492e61c26aad"
      },
      "execution_count": 3,
      "outputs": [
        {
          "output_type": "stream",
          "name": "stdout",
          "text": [
            "models/embedding-001\n",
            "models/text-embedding-004\n"
          ]
        }
      ]
    },
    {
      "cell_type": "markdown",
      "source": [
        "**Embeding EXEMPLE**"
      ],
      "metadata": {
        "id": "E9qnHZSYuTJz"
      }
    },
    {
      "cell_type": "markdown",
      "source": [
        "**Starting the LLM structure.**"
      ],
      "metadata": {
        "id": "_Q9dcFAqHBay"
      }
    },
    {
      "cell_type": "code",
      "source": [
        "document1 = {\n",
        "    \"Título\": \"A revolução elétrica está nas ruas\",\n",
        "    \"Conteúdo\": \"Preparado para as ruas brasileiras, o Renault Kwid E-Tech 100% elétrico está revolucionando a mobilidade do país. Robustez de SUV com altura do solo de 16,6cm, 185 km* de autonomia com uma carga, e pode ser recarregado em qualquer lugar: tomadas, wallbox ou em mais de 3.000 pontos espalhados pelo país. Você ainda conta com a confiabilidade da maior e mais preparada rede de concessionárias de carros 100% elétricos. Encontre a mais próxima, faça um test drive e descubra o melhor da experiência elétrica.\"\n",
        "}\n",
        "document2 = {\n",
        "    \"Título\": \"Sobre a BYD\",\n",
        "    \"Conteúdo\": \"Fundada em 1995, a BYD é uma empresa líder em tecnologia dedicada a alavancar inovações para uma vida melhor. Com mais de 28 anos de experiência, a BYD se estabeleceu como líder do setor de eletrônicos, automotivo, energia renovável e transporte ferroviário. Como líder global com mais de 30 parques industriais em 6 continentes, as soluções de emissão zero da BYD, focadas na geração e armazenamento de energia, são expansivas e amplamente aplicáveis.\"\n",
        "}\n",
        "document3 = {\n",
        "    \"Título\": \"Seu primeiro elétrico!\",\n",
        "    \"Conteúdo\": \"O JAC E-JS1 possui baterias de fosfato de ferro-lítio, Provido de sistema de regeneração de carga, o modelo urbano é extremamente econômico: 10 kWh a cada 100 km. E-JS1 possui um excepcional rendimento, à medida que ele é leve. São somente 1.180 kg de peso em ordem de marcha. Por este motivo, o motor de 150 Nm (15,3 kgfm) de torque entrega um desempenho empolgante para um modelo urbano. São 62 cv de potência e ele vai de  0 a 100 km/h em 10,7 segundos!\"\n",
        "}\n",
        "\n",
        "documents = [document1, document2, document3]"
      ],
      "metadata": {
        "id": "YaFnglGzvpP6"
      },
      "execution_count": 88,
      "outputs": []
    },
    {
      "cell_type": "markdown",
      "source": [
        "**Convert to datasheet structure.**"
      ],
      "metadata": {
        "id": "Qfj3G_0OxnpF"
      }
    },
    {
      "cell_type": "markdown",
      "source": [
        "**Using the model.**"
      ],
      "metadata": {
        "id": "u70jRppS1dX_"
      }
    },
    {
      "cell_type": "code",
      "source": [
        "model = \"models/embedding-001\"\n"
      ],
      "metadata": {
        "id": "CX6WFq8F0LmY"
      },
      "execution_count": 90,
      "outputs": []
    },
    {
      "cell_type": "markdown",
      "source": [
        "**Defining functions to read embeddings.**"
      ],
      "metadata": {
        "id": "dWvNSw131XN0"
      }
    },
    {
      "cell_type": "code",
      "source": [
        "def embed_fn(tittle, text):\n",
        "  return genai.embed_content(model,\n",
        "                                 content=text,\n",
        "                                 title=title,\n",
        "                                 task_type=\"RETRIEVAL_DOCUMENT\")[\"embedding\"]"
      ],
      "metadata": {
        "id": "Rtos0OeM0eQU"
      },
      "execution_count": 91,
      "outputs": []
    },
    {
      "cell_type": "code",
      "source": [],
      "metadata": {
        "id": "CxEWHgVH1RQL"
      },
      "execution_count": null,
      "outputs": []
    },
    {
      "cell_type": "markdown",
      "source": [
        "**Creating a new collum to receive embedding code**"
      ],
      "metadata": {
        "id": "ralUSJrO1g_y"
      }
    },
    {
      "cell_type": "markdown",
      "source": [
        "**Distance - to compare**"
      ],
      "metadata": {
        "id": "yPb7qAb_5FFL"
      }
    },
    {
      "cell_type": "code",
      "source": [
        "def build_and_bring_find(consult, base, model):\n",
        "  embedding_find = genai.embed_content(model=model,\n",
        "                                       content=consult,\n",
        "                                       task_type=\"RETRIEVAL_QUERY\")[\"embedding\"]\n",
        "  prod_scalar = np.dot(np.stack(df['Embeddings']), embedding_find)\n",
        "  indice = np.argmax(prod_scalar)\n",
        "  return df.iloc[indice][\"Conteudo\"]\n",
        "\n",
        ""
      ],
      "metadata": {
        "id": "W0_HKg457M07"
      },
      "execution_count": 93,
      "outputs": []
    },
    {
      "cell_type": "markdown",
      "source": [
        "**Make the inquiry.**\n",
        "\n"
      ],
      "metadata": {
        "id": "ZbuSRvf8BWfZ"
      }
    }
  ]
}